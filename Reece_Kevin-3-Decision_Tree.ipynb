{
 "cells": [
  {
   "cell_type": "code",
   "execution_count": 1,
   "metadata": {
    "collapsed": false
   },
   "outputs": [],
   "source": [
    "from DecisionTree import DecisionTree\n",
    "import numpy as np\n",
    "import arff"
   ]
  },
  {
   "cell_type": "code",
   "execution_count": 2,
   "metadata": {
    "collapsed": false
   },
   "outputs": [],
   "source": [
    "data_file = \"../arffs/lenses.arff\"\n",
    "arff_data = arff.load(open(data_file, 'rb'))"
   ]
  },
  {
   "cell_type": "code",
   "execution_count": 3,
   "metadata": {
    "collapsed": false
   },
   "outputs": [],
   "source": [
    "attributes = [str(a) for a, b in arff_data['attributes']]\n",
    "data = np.array(arff_data['data'])\n",
    "\n",
    "data = np.array(map(lambda y: map(str, y), data))\n",
    "\n",
    "# for d in data:\n",
    "#     print d\n",
    "    \n",
    "# print type(d)"
   ]
  },
  {
   "cell_type": "code",
   "execution_count": 4,
   "metadata": {
    "collapsed": false
   },
   "outputs": [],
   "source": [
    "dt = DecisionTree()"
   ]
  },
  {
   "cell_type": "code",
   "execution_count": 5,
   "metadata": {
    "collapsed": false,
    "scrolled": true
   },
   "outputs": [],
   "source": [
    "dt.learn(data, attributes)"
   ]
  },
  {
   "cell_type": "code",
   "execution_count": 6,
   "metadata": {
    "collapsed": false
   },
   "outputs": [
    {
     "name": "stdout",
     "output_type": "stream",
     "text": [
      "(age, none)\n",
      "\n",
      "(spectacle-prescrip, none)(spectacle-prescrip, none)(spectacle-prescrip, none)\n",
      "\n",
      "(astigmatism, none)(astigmatism, none)(astigmatism, none)(astigmatism, none)(astigmatism, none)(astigmatism, none)\n",
      "\n",
      "(, none)(tear-prod-rate, none)(tear-prod-rate, none)(, none)(, none)(tear-prod-rate, none)(tear-prod-rate, none)(tear-prod-rate, none)(tear-prod-rate, none)(tear-prod-rate, none)(tear-prod-rate, none)(tear-prod-rate, none)\n",
      "\n",
      "(, none)(, soft)(, none)(, hard)(, none)(, soft)(, none)(, hard)(, none)(, soft)(, none)(, hard)(, none)(, soft)(, none)(, hard)(, none)(, soft)\n",
      "\n",
      "\n"
     ]
    }
   ],
   "source": [
    "print str(dt)"
   ]
  },
  {
   "cell_type": "code",
   "execution_count": null,
   "metadata": {
    "collapsed": false
   },
   "outputs": [],
   "source": [
    "print attributes"
   ]
  },
  {
   "cell_type": "code",
   "execution_count": null,
   "metadata": {
    "collapsed": false
   },
   "outputs": [],
   "source": [
    "subset_of_data = np.array(filter(lambda x: x[0] == 'presbyopi', data))\n",
    "print len(subset_of_data)\n",
    "print type(subset_of_data)\n",
    "print subset_of_data.shape\n",
    "print subset_of_data"
   ]
  },
  {
   "cell_type": "code",
   "execution_count": null,
   "metadata": {
    "collapsed": false
   },
   "outputs": [],
   "source": [
    "print data"
   ]
  },
  {
   "cell_type": "code",
   "execution_count": null,
   "metadata": {
    "collapsed": false
   },
   "outputs": [],
   "source": [
    "test_data = data\n",
    "print test_data\n",
    "new_data = np.array(filter(lambda x: x[0] == 'young', test_data))\n",
    "new_data = np.delete(new_data, 0, 1)\n",
    "print new_data\n",
    "new_data = np.array(filter(lambda x: x[0] == 'myope', new_data))\n",
    "new_data = np.delete(new_data, 0, 1)\n",
    "print new_data\n",
    "new_data = np.array(filter(lambda x: x[0] == 'no', new_data))\n",
    "new_data = np.delete(new_data, 0, 1)\n",
    "print new_data\n",
    "new_data = np.array(filter(lambda x: x[0] == 'reduced', new_data))\n",
    "new_data = np.delete(new_data, 0, 1)\n",
    "print new_data\n",
    "new_data = np.array(filter(lambda x: x[0] == 'none', new_data))\n",
    "new_data = np.delete(new_data, 0, 1)\n",
    "print new_data"
   ]
  },
  {
   "cell_type": "code",
   "execution_count": null,
   "metadata": {
    "collapsed": true
   },
   "outputs": [],
   "source": []
  }
 ],
 "metadata": {
  "kernelspec": {
   "display_name": "Python 2",
   "language": "python",
   "name": "python2"
  },
  "language_info": {
   "codemirror_mode": {
    "name": "ipython",
    "version": 2
   },
   "file_extension": ".py",
   "mimetype": "text/x-python",
   "name": "python",
   "nbconvert_exporter": "python",
   "pygments_lexer": "ipython2",
   "version": "2.7.11"
  }
 },
 "nbformat": 4,
 "nbformat_minor": 0
}

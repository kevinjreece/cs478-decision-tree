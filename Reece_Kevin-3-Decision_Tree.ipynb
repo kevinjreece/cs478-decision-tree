{
 "cells": [
  {
   "cell_type": "code",
   "execution_count": 7,
   "metadata": {
    "collapsed": false
   },
   "outputs": [],
   "source": [
    "from DecisionTree import *\n",
    "import numpy as np\n",
    "import arff"
   ]
  },
  {
   "cell_type": "code",
   "execution_count": 8,
   "metadata": {
    "collapsed": false
   },
   "outputs": [],
   "source": [
    "data_file = \"../arffs/lenses.arff\"\n",
    "arff_data = arff.load(open(data_file, 'rb'))"
   ]
  },
  {
   "cell_type": "code",
   "execution_count": 9,
   "metadata": {
    "collapsed": false
   },
   "outputs": [],
   "source": [
    "attributes = [str(a) for a, b in arff_data['attributes']]\n",
    "data = np.array(arff_data['data'])\n",
    "\n",
    "data = np.array(map(lambda y: map(str, y), data))"
   ]
  },
  {
   "cell_type": "code",
   "execution_count": 10,
   "metadata": {
    "collapsed": false
   },
   "outputs": [
    {
     "name": "stdout",
     "output_type": "stream",
     "text": [
      "(, tear-prod-rate, none)\n",
      "\n",
      "(reduced, , none)(normal, astigmatism, soft)\n",
      "\n",
      "(yes, spectacle-prescrip, hard)(no, age, soft)\n",
      "\n",
      "(hypermetrope, age, none)(myope, , hard)(presbyopic, spectacle-prescrip, none)(pre-presbyopic, , soft)(young, , soft)\n",
      "\n",
      "(presbyopic, , none)(pre-presbyopic, , none)(young, , hard)(hypermetrope, , soft)(myope, , none)\n",
      "\n",
      "\n"
     ]
    }
   ],
   "source": [
    "dt = DecisionTree()\n",
    "dt.learn(data, attributes)\n",
    "print str(dt)"
   ]
  },
  {
   "cell_type": "code",
   "execution_count": 3,
   "metadata": {
    "collapsed": false
   },
   "outputs": [],
   "source": [
    "pizza_data = np.array([['Y', 'Thin', 'N', 'Great'],\n",
    "['N', 'Deep', 'N', 'Bad'],\n",
    "['N', 'Stuffed', 'Y', 'Good'],\n",
    "['Y', 'Stuffed', 'Y', 'Great'],\n",
    "['Y', 'Deep', 'N', 'Good'],\n",
    "['Y', 'Deep', 'Y', 'Great'],\n",
    "['N', 'Thin', 'Y', 'Good'],\n",
    "['Y', 'Deep', 'N', 'Good'],\n",
    "['N', 'Thin', 'N', 'Bad']])\n",
    "\n",
    "pizza_attributes = ['Meat', 'Crust', 'Veg', 'Quality']\n",
    "pizza_labels = np.array([['Great'],\n",
    "['Bad'],\n",
    "['Good'],\n",
    "['Great'],\n",
    "['Good'],\n",
    "['Great'],\n",
    "['Good'],\n",
    "['Good'],\n",
    "['Bad']])"
   ]
  },
  {
   "cell_type": "code",
   "execution_count": 4,
   "metadata": {
    "collapsed": false
   },
   "outputs": [],
   "source": [
    "dt = DecisionTree()\n",
    "dt.learn(pizza_data, pizza_attributes)\n",
    "print str(dt)"
   ]
  },
  {
   "cell_type": "code",
   "execution_count": null,
   "metadata": {
    "collapsed": false
   },
   "outputs": [],
   "source": []
  },
  {
   "cell_type": "code",
   "execution_count": null,
   "metadata": {
    "collapsed": false
   },
   "outputs": [],
   "source": []
  },
  {
   "cell_type": "code",
   "execution_count": null,
   "metadata": {
    "collapsed": false
   },
   "outputs": [],
   "source": []
  },
  {
   "cell_type": "code",
   "execution_count": null,
   "metadata": {
    "collapsed": true
   },
   "outputs": [],
   "source": []
  }
 ],
 "metadata": {
  "kernelspec": {
   "display_name": "Python 2",
   "language": "python",
   "name": "python2"
  },
  "language_info": {
   "codemirror_mode": {
    "name": "ipython",
    "version": 2
   },
   "file_extension": ".py",
   "mimetype": "text/x-python",
   "name": "python",
   "nbconvert_exporter": "python",
   "pygments_lexer": "ipython2",
   "version": "2.7.11"
  }
 },
 "nbformat": 4,
 "nbformat_minor": 0
}
